{
 "cells": [
  {
   "cell_type": "code",
   "execution_count": 1,
   "id": "a58a169a",
   "metadata": {},
   "outputs": [
    {
     "name": "stdout",
     "output_type": "stream",
     "text": [
      "5\n",
      "6\n",
      "7\n",
      "8\n",
      "9\n",
      "10\n",
      "11\n",
      "12\n",
      "13\n",
      "14\n",
      "15\n"
     ]
    }
   ],
   "source": [
    "# Q1. Which two operator overloading methods can you use in your classes to support iteration?\n",
    "\n",
    "class Counter:\n",
    "    def __init__(self, low, high):\n",
    "        self.current = low\n",
    "        self.high = high\n",
    " \n",
    "    def __iter__(self):\n",
    "        return self\n",
    " \n",
    "    def __next__(self):\n",
    "        if self.current > self.high:\n",
    "            raise StopIteration\n",
    "        else:\n",
    "            self.current += 1\n",
    "            return self.current - 1\n",
    " \n",
    " \n",
    "for num in Counter(5, 15):\n",
    "    print(num)\n",
    " "
   ]
  },
  {
   "cell_type": "code",
   "execution_count": 3,
   "id": "a609fb6d",
   "metadata": {},
   "outputs": [],
   "source": [
    "# Q2. In what contexts do the two operator overloading methods manage printing?\n",
    "\n",
    "#A Operator Overloading is the phenomenon of giving alternate/different meaning to an action performed by an operator beyond their predefined operational function. Operator overloading is also called Operator Ad-hoc Polymorphism."
   ]
  },
  {
   "cell_type": "code",
   "execution_count": 4,
   "id": "5f6498d0",
   "metadata": {},
   "outputs": [
    {
     "ename": "SyntaxError",
     "evalue": "Missing parentheses in call to 'print'. Did you mean print('saving')? (Temp/ipykernel_3444/4128318489.py, line 8)",
     "output_type": "error",
     "traceback": [
      "\u001b[1;36m  File \u001b[1;32m\"C:\\Users\\MOHITA~1\\AppData\\Local\\Temp/ipykernel_3444/4128318489.py\"\u001b[1;36m, line \u001b[1;32m8\u001b[0m\n\u001b[1;33m    print 'saving'\u001b[0m\n\u001b[1;37m          ^\u001b[0m\n\u001b[1;31mSyntaxError\u001b[0m\u001b[1;31m:\u001b[0m Missing parentheses in call to 'print'. Did you mean print('saving')?\n"
     ]
    }
   ],
   "source": [
    "# Q3. In a class, how do you intercept slice operations?\n",
    "\n",
    "class InterceptedList(list):\n",
    "\n",
    "    def addSave(func):\n",
    "        def newfunc(self, *args):\n",
    "            func(self, *args)\n",
    "            print 'saving'\n",
    "        return newfunc\n",
    "\n",
    "    __setslice__ = addSave(list.__setslice__)\n",
    "    __delslice__ = addSave(list.__delslice__)\n",
    "\n",
    ">>> l = InterceptedList()\n",
    ">>> l.extend([1,2,3,4])\n",
    ">>> l\n",
    "[1, 2, 3, 4]\n",
    ">>> l[3:] = [5] # note: 'saving' is not printed\n",
    ">>> l\n",
    "[1, 2, 3, 5] "
   ]
  },
  {
   "cell_type": "code",
   "execution_count": null,
   "id": "3c215ebf",
   "metadata": {},
   "outputs": [],
   "source": []
  }
 ],
 "metadata": {
  "kernelspec": {
   "display_name": "Python 3 (ipykernel)",
   "language": "python",
   "name": "python3"
  },
  "language_info": {
   "codemirror_mode": {
    "name": "ipython",
    "version": 3
   },
   "file_extension": ".py",
   "mimetype": "text/x-python",
   "name": "python",
   "nbconvert_exporter": "python",
   "pygments_lexer": "ipython3",
   "version": "3.9.7"
  }
 },
 "nbformat": 4,
 "nbformat_minor": 5
}
